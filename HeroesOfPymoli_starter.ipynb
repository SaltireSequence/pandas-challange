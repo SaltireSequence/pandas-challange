{
 "cells": [
  {
   "cell_type": "markdown",
   "metadata": {},
   "source": [
    "### Heroes Of Pymoli Data Analysis\n",
    "\n",
    "* The biggest demographical spender are those in the 20-24 bucket; accounting for $1,114.06 of the total $2388.86.\n",
    "\n",
    "\n",
    "* The largest average spending demographic (on a per item basis) is the 35-39 bucket, with an average of $4.76.\n",
    "\n",
    "\n",
    "* Although the 'Other/Non-Disclosed' bucket make up only 1.91% of the total number of players, they accounted for the largest spender on a 'Avg. Purchase Value' and 'Avg. Purchase Total P/P' basis.\n",
    "\n",
    "\n",
    "* Of the 1163 active players, the vast majority are male (84%). There also exists, a smaller, but notable proportion of female players (14%).\n",
    "\n",
    "\n",
    "* Our peak age demographic falls between 20-24 (44.8%) with secondary groups falling between 15-19 (18.60%) and 25-29 (13.4%).\n",
    "-----"
   ]
  },
  {
   "cell_type": "markdown",
   "metadata": {},
   "source": [
    "### Note\n",
    "* Instructions have been included for each segment. You do not have to follow them exactly, but they are included to help you think through the steps."
   ]
  },
  {
   "cell_type": "code",
   "execution_count": 28,
   "metadata": {},
   "outputs": [],
   "source": [
    "# Dependencies and Setup\n",
    "import pandas as pd\n",
    "\n",
    "# File to Load (Remember to Change These)\n",
    "file_to_load = \"Resources/purchase_data.csv\"\n",
    "\n",
    "# Read Purchasing File and store into Pandas data frame\n",
    "purchase_data = pd.read_csv(file_to_load)"
   ]
  },
  {
   "cell_type": "markdown",
   "metadata": {},
   "source": [
    "## Player Count"
   ]
  },
  {
   "cell_type": "markdown",
   "metadata": {},
   "source": [
    "* Display the total number of players\n"
   ]
  },
  {
   "cell_type": "code",
   "execution_count": 29,
   "metadata": {},
   "outputs": [
    {
     "name": "stdout",
     "output_type": "stream",
     "text": [
      "Total players =  576\n"
     ]
    }
   ],
   "source": [
    "# using the length of the SN column to calculate total players\n",
    "total_players = len(purchase_data[\"SN\"].value_counts())\n",
    "print(\"Total players = \",total_players)"
   ]
  },
  {
   "cell_type": "markdown",
   "metadata": {},
   "source": [
    "## Purchasing Analysis (Total)"
   ]
  },
  {
   "cell_type": "markdown",
   "metadata": {},
   "source": [
    "* Run basic calculations to obtain number of unique items, average price, etc.\n",
    "\n",
    "\n",
    "* Create a summary data frame to hold the results\n",
    "\n",
    "\n",
    "* Optional: give the displayed data cleaner formatting\n",
    "\n",
    "\n",
    "* Display the summary data frame\n"
   ]
  },
  {
   "cell_type": "code",
   "execution_count": 30,
   "metadata": {
    "scrolled": true
   },
   "outputs": [
    {
     "data": {
      "text/html": [
       "<style  type=\"text/css\" >\n",
       "</style><table id=\"T_62d80224_8cbc_11ea_a2ba_acde48001122\" ><thead>    <tr>        <th class=\"blank level0\" ></th>        <th class=\"col_heading level0 col0\" >Total Unique Items</th>        <th class=\"col_heading level0 col1\" >Average Item Price</th>        <th class=\"col_heading level0 col2\" >Total Purchases</th>        <th class=\"col_heading level0 col3\" >Total Revenue</th>    </tr></thead><tbody>\n",
       "                <tr>\n",
       "                        <th id=\"T_62d80224_8cbc_11ea_a2ba_acde48001122level0_row0\" class=\"row_heading level0 row0\" >0</th>\n",
       "                        <td id=\"T_62d80224_8cbc_11ea_a2ba_acde48001122row0_col0\" class=\"data row0 col0\" >179</td>\n",
       "                        <td id=\"T_62d80224_8cbc_11ea_a2ba_acde48001122row0_col1\" class=\"data row0 col1\" >$3.05</td>\n",
       "                        <td id=\"T_62d80224_8cbc_11ea_a2ba_acde48001122row0_col2\" class=\"data row0 col2\" >780</td>\n",
       "                        <td id=\"T_62d80224_8cbc_11ea_a2ba_acde48001122row0_col3\" class=\"data row0 col3\" >$2,379.77</td>\n",
       "            </tr>\n",
       "    </tbody></table>"
      ],
      "text/plain": [
       "<pandas.io.formats.style.Styler at 0x1207d8850>"
      ]
     },
     "execution_count": 30,
     "metadata": {},
     "output_type": "execute_result"
    }
   ],
   "source": [
    "# running basic calculations to obtain (i) unique items\n",
    "unique_items = len((purchase_data[\"Item ID\"]).unique())\n",
    "# (ii) average price\n",
    "average_price = (purchase_data[\"Price\"]).mean()\n",
    "# (iii) purchase count\n",
    "total_of_purchases = (purchase_data[\"Purchase ID\"]).count()\n",
    "# (iv) total revenue\n",
    "total_of_revenue = (purchase_data[\"Price\"]).sum()\n",
    "\n",
    "# creating a summary dataframe to hold the calculation outputs\n",
    "summary_df = pd.DataFrame({\"Total Unique Items\":[unique_items],\n",
    "                           \"Average Item Price\":[average_price], \n",
    "                           \"Total Purchases\": [total_of_purchases], \n",
    "                           \"Total Revenue\": [total_of_revenue]})\n",
    "\n",
    "# basic currency formatting to finesse and give clarity to the data\n",
    "summary_df.style.format({'Average Item Price':\"${:,.2f}\",\n",
    "                         'Total Revenue': '${:,.2f}'})"
   ]
  },
  {
   "cell_type": "markdown",
   "metadata": {},
   "source": [
    "## Gender Demographics"
   ]
  },
  {
   "cell_type": "markdown",
   "metadata": {},
   "source": [
    "* Percentage and Count of Male Players\n",
    "\n",
    "\n",
    "* Percentage and Count of Female Players\n",
    "\n",
    "\n",
    "* Percentage and Count of Other / Non-Disclosed\n",
    "\n",
    "\n"
   ]
  },
  {
   "cell_type": "code",
   "execution_count": 31,
   "metadata": {},
   "outputs": [
    {
     "data": {
      "text/html": [
       "<style  type=\"text/css\" >\n",
       "</style><table id=\"T_6519024a_8cbc_11ea_a2ba_acde48001122\" ><thead>    <tr>        <th class=\"blank level0\" ></th>        <th class=\"col_heading level0 col0\" >% of players</th>        <th class=\"col_heading level0 col1\" >Total players</th>    </tr>    <tr>        <th class=\"index_name level0\" >Gender</th>        <th class=\"blank\" ></th>        <th class=\"blank\" ></th>    </tr></thead><tbody>\n",
       "                <tr>\n",
       "                        <th id=\"T_6519024a_8cbc_11ea_a2ba_acde48001122level0_row0\" class=\"row_heading level0 row0\" >Male</th>\n",
       "                        <td id=\"T_6519024a_8cbc_11ea_a2ba_acde48001122row0_col0\" class=\"data row0 col0\" >84.03</td>\n",
       "                        <td id=\"T_6519024a_8cbc_11ea_a2ba_acde48001122row0_col1\" class=\"data row0 col1\" >484</td>\n",
       "            </tr>\n",
       "            <tr>\n",
       "                        <th id=\"T_6519024a_8cbc_11ea_a2ba_acde48001122level0_row1\" class=\"row_heading level0 row1\" >Female</th>\n",
       "                        <td id=\"T_6519024a_8cbc_11ea_a2ba_acde48001122row1_col0\" class=\"data row1 col0\" >14.06</td>\n",
       "                        <td id=\"T_6519024a_8cbc_11ea_a2ba_acde48001122row1_col1\" class=\"data row1 col1\" >81</td>\n",
       "            </tr>\n",
       "            <tr>\n",
       "                        <th id=\"T_6519024a_8cbc_11ea_a2ba_acde48001122level0_row2\" class=\"row_heading level0 row2\" >Other / Non-Disclosed</th>\n",
       "                        <td id=\"T_6519024a_8cbc_11ea_a2ba_acde48001122row2_col0\" class=\"data row2 col0\" >1.91</td>\n",
       "                        <td id=\"T_6519024a_8cbc_11ea_a2ba_acde48001122row2_col1\" class=\"data row2 col1\" >11</td>\n",
       "            </tr>\n",
       "    </tbody></table>"
      ],
      "text/plain": [
       "<pandas.io.formats.style.Styler at 0x1207ff810>"
      ]
     },
     "execution_count": 31,
     "metadata": {},
     "output_type": "execute_result"
    }
   ],
   "source": [
    "# grouping data by gender data\n",
    "gender_grouping = purchase_data.groupby(\"Gender\")\n",
    "\n",
    "#counting total screen names, by gender\n",
    "gender_total = gender_grouping.nunique()[\"SN\"]\n",
    "\n",
    "# obtaining player percentage by taking total count by gender and / by total player count\n",
    "player_percentage = gender_total / total_players * 100\n",
    "\n",
    "# creating dataframe to hold above values\n",
    "gender_demographics = pd.DataFrame({\"% of players\": player_percentage, \"Total players\": gender_total }) \n",
    "gender_demographics.round(1)\n",
    "\n",
    "# sorting '% of players' values descendingly and formatting. I tried to write seperate lines of code for 'sort_values and 'style.format' but nothing happened!\n",
    "gender_demographics.sort_values([\"% of players\"], ascending = False).style.format({\"% of players\":\"{:,.2f}\",})"
   ]
  },
  {
   "cell_type": "markdown",
   "metadata": {},
   "source": [
    "\n",
    "## Purchasing Analysis (Gender)"
   ]
  },
  {
   "cell_type": "markdown",
   "metadata": {},
   "source": [
    "* Run basic calculations to obtain purchase count, avg. purchase price, avg. purchase total per person etc. by gender\n",
    "\n",
    "\n",
    "\n",
    "\n",
    "* Create a summary data frame to hold the results\n",
    "\n",
    "\n",
    "* Optional: give the displayed data cleaner formatting\n",
    "\n",
    "\n",
    "* Display the summary data frame"
   ]
  },
  {
   "cell_type": "code",
   "execution_count": 33,
   "metadata": {},
   "outputs": [
    {
     "data": {
      "text/html": [
       "<style  type=\"text/css\" >\n",
       "</style><table id=\"T_c8bdd97e_8cbc_11ea_a2ba_acde48001122\" ><thead>    <tr>        <th class=\"blank level0\" ></th>        <th class=\"col_heading level0 col0\" >Total Purchase Count</th>        <th class=\"col_heading level0 col1\" >Avg. Purchase Value</th>        <th class=\"col_heading level0 col2\" >Avg. Purchase Price</th>        <th class=\"col_heading level0 col3\" >Avg. Purchase Total P/P</th>    </tr>    <tr>        <th class=\"index_name level0\" >Gender</th>        <th class=\"blank\" ></th>        <th class=\"blank\" ></th>        <th class=\"blank\" ></th>        <th class=\"blank\" ></th>    </tr></thead><tbody>\n",
       "                <tr>\n",
       "                        <th id=\"T_c8bdd97e_8cbc_11ea_a2ba_acde48001122level0_row0\" class=\"row_heading level0 row0\" >Male</th>\n",
       "                        <td id=\"T_c8bdd97e_8cbc_11ea_a2ba_acde48001122row0_col0\" class=\"data row0 col0\" >652</td>\n",
       "                        <td id=\"T_c8bdd97e_8cbc_11ea_a2ba_acde48001122row0_col1\" class=\"data row0 col1\" >$1,967.64</td>\n",
       "                        <td id=\"T_c8bdd97e_8cbc_11ea_a2ba_acde48001122row0_col2\" class=\"data row0 col2\" >$3.02</td>\n",
       "                        <td id=\"T_c8bdd97e_8cbc_11ea_a2ba_acde48001122row0_col3\" class=\"data row0 col3\" >$4.07</td>\n",
       "            </tr>\n",
       "            <tr>\n",
       "                        <th id=\"T_c8bdd97e_8cbc_11ea_a2ba_acde48001122level0_row1\" class=\"row_heading level0 row1\" >Female</th>\n",
       "                        <td id=\"T_c8bdd97e_8cbc_11ea_a2ba_acde48001122row1_col0\" class=\"data row1 col0\" >113</td>\n",
       "                        <td id=\"T_c8bdd97e_8cbc_11ea_a2ba_acde48001122row1_col1\" class=\"data row1 col1\" >$361.94</td>\n",
       "                        <td id=\"T_c8bdd97e_8cbc_11ea_a2ba_acde48001122row1_col2\" class=\"data row1 col2\" >$3.20</td>\n",
       "                        <td id=\"T_c8bdd97e_8cbc_11ea_a2ba_acde48001122row1_col3\" class=\"data row1 col3\" >$4.47</td>\n",
       "            </tr>\n",
       "            <tr>\n",
       "                        <th id=\"T_c8bdd97e_8cbc_11ea_a2ba_acde48001122level0_row2\" class=\"row_heading level0 row2\" >Other / Non-Disclosed</th>\n",
       "                        <td id=\"T_c8bdd97e_8cbc_11ea_a2ba_acde48001122row2_col0\" class=\"data row2 col0\" >15</td>\n",
       "                        <td id=\"T_c8bdd97e_8cbc_11ea_a2ba_acde48001122row2_col1\" class=\"data row2 col1\" >$50.19</td>\n",
       "                        <td id=\"T_c8bdd97e_8cbc_11ea_a2ba_acde48001122row2_col2\" class=\"data row2 col2\" >$3.35</td>\n",
       "                        <td id=\"T_c8bdd97e_8cbc_11ea_a2ba_acde48001122row2_col3\" class=\"data row2 col3\" >$4.56</td>\n",
       "            </tr>\n",
       "    </tbody></table>"
      ],
      "text/plain": [
       "<pandas.io.formats.style.Styler at 0x11f3f9b90>"
      ]
     },
     "execution_count": 33,
     "metadata": {},
     "output_type": "execute_result"
    }
   ],
   "source": [
    "# basic calculations to obtain purchase count by gender\n",
    "total_purchase_count = gender_grouping[\"Purchase ID\"].count()\n",
    "\n",
    "# basic calculations to obtain avg. purchase price by gender\n",
    "avg_purchase_price = gender_grouping[\"Price\"].mean()\n",
    "\n",
    "# basic calculation to obtain total purchase price by gender\n",
    "total_purchase_value = gender_grouping[\"Price\"].sum()\n",
    "\n",
    "\n",
    "# basic calculations to obtain  avg. purchase total per person by gender\n",
    "avg_purchase_total_pp = total_purchase_value/gender_total\n",
    "\n",
    "# creating dataframe to house above calculated values\n",
    "purchase_analysis_summary = pd.DataFrame({\"Total Purchase Count\": total_purchase_count,\n",
    "                                          \"Avg. Purchase Value\": total_purchase_value,\n",
    "                                          \"Avg. Purchase Price\": avg_purchase_price,\n",
    "                                          \"Avg. Purchase Total P/P\": avg_purchase_total_pp})\n",
    "\n",
    "# making sure my index column / name is Gender\n",
    "purchase_analysis_summary.index.name = \"Gender\"\n",
    "\n",
    "# basic currency formatting to finesse and give clarity to the data\n",
    "purchase_analysis_summary.sort_values([\"Total Purchase Count\"], ascending = False).style.format({\"Avg. Purchase Value\": \"${:,.2f}\", \"Avg. Purchase Price\": \"${:,.2f}\",\n",
    "                                        \"Avg. Purchase Total P/P\": \"${:,.2f}\"})\n"
   ]
  },
  {
   "cell_type": "markdown",
   "metadata": {},
   "source": [
    "## Age Demographics"
   ]
  },
  {
   "cell_type": "markdown",
   "metadata": {},
   "source": [
    "* Establish bins for ages\n",
    "\n",
    "\n",
    "* Categorize the existing players using the age bins. Hint: use pd.cut()\n",
    "\n",
    "\n",
    "* Calculate the numbers and percentages by age group\n",
    "\n",
    "\n",
    "* Create a summary data frame to hold the results\n",
    "\n",
    "\n",
    "* Optional: round the percentage column to two decimal points\n",
    "\n",
    "\n",
    "* Display Age Demographics Table\n"
   ]
  },
  {
   "cell_type": "code",
   "execution_count": 34,
   "metadata": {},
   "outputs": [
    {
     "data": {
      "text/html": [
       "<style  type=\"text/css\" >\n",
       "</style><table id=\"T_d024493c_8cbc_11ea_a2ba_acde48001122\" ><thead>    <tr>        <th class=\"blank level0\" ></th>        <th class=\"col_heading level0 col0\" >% of players</th>        <th class=\"col_heading level0 col1\" >Total</th>    </tr>    <tr>        <th class=\"index_name level0\" >Age Groupings</th>        <th class=\"blank\" ></th>        <th class=\"blank\" ></th>    </tr></thead><tbody>\n",
       "                <tr>\n",
       "                        <th id=\"T_d024493c_8cbc_11ea_a2ba_acde48001122level0_row0\" class=\"row_heading level0 row0\" ><10</th>\n",
       "                        <td id=\"T_d024493c_8cbc_11ea_a2ba_acde48001122row0_col0\" class=\"data row0 col0\" >2.95</td>\n",
       "                        <td id=\"T_d024493c_8cbc_11ea_a2ba_acde48001122row0_col1\" class=\"data row0 col1\" >17</td>\n",
       "            </tr>\n",
       "            <tr>\n",
       "                        <th id=\"T_d024493c_8cbc_11ea_a2ba_acde48001122level0_row1\" class=\"row_heading level0 row1\" >10-14</th>\n",
       "                        <td id=\"T_d024493c_8cbc_11ea_a2ba_acde48001122row1_col0\" class=\"data row1 col0\" >3.82</td>\n",
       "                        <td id=\"T_d024493c_8cbc_11ea_a2ba_acde48001122row1_col1\" class=\"data row1 col1\" >22</td>\n",
       "            </tr>\n",
       "            <tr>\n",
       "                        <th id=\"T_d024493c_8cbc_11ea_a2ba_acde48001122level0_row2\" class=\"row_heading level0 row2\" >15-19</th>\n",
       "                        <td id=\"T_d024493c_8cbc_11ea_a2ba_acde48001122row2_col0\" class=\"data row2 col0\" >18.58</td>\n",
       "                        <td id=\"T_d024493c_8cbc_11ea_a2ba_acde48001122row2_col1\" class=\"data row2 col1\" >107</td>\n",
       "            </tr>\n",
       "            <tr>\n",
       "                        <th id=\"T_d024493c_8cbc_11ea_a2ba_acde48001122level0_row3\" class=\"row_heading level0 row3\" >20-24</th>\n",
       "                        <td id=\"T_d024493c_8cbc_11ea_a2ba_acde48001122row3_col0\" class=\"data row3 col0\" >44.79</td>\n",
       "                        <td id=\"T_d024493c_8cbc_11ea_a2ba_acde48001122row3_col1\" class=\"data row3 col1\" >258</td>\n",
       "            </tr>\n",
       "            <tr>\n",
       "                        <th id=\"T_d024493c_8cbc_11ea_a2ba_acde48001122level0_row4\" class=\"row_heading level0 row4\" >25-29</th>\n",
       "                        <td id=\"T_d024493c_8cbc_11ea_a2ba_acde48001122row4_col0\" class=\"data row4 col0\" >13.37</td>\n",
       "                        <td id=\"T_d024493c_8cbc_11ea_a2ba_acde48001122row4_col1\" class=\"data row4 col1\" >77</td>\n",
       "            </tr>\n",
       "            <tr>\n",
       "                        <th id=\"T_d024493c_8cbc_11ea_a2ba_acde48001122level0_row5\" class=\"row_heading level0 row5\" >30-34</th>\n",
       "                        <td id=\"T_d024493c_8cbc_11ea_a2ba_acde48001122row5_col0\" class=\"data row5 col0\" >9.03</td>\n",
       "                        <td id=\"T_d024493c_8cbc_11ea_a2ba_acde48001122row5_col1\" class=\"data row5 col1\" >52</td>\n",
       "            </tr>\n",
       "            <tr>\n",
       "                        <th id=\"T_d024493c_8cbc_11ea_a2ba_acde48001122level0_row6\" class=\"row_heading level0 row6\" >35-39</th>\n",
       "                        <td id=\"T_d024493c_8cbc_11ea_a2ba_acde48001122row6_col0\" class=\"data row6 col0\" >5.38</td>\n",
       "                        <td id=\"T_d024493c_8cbc_11ea_a2ba_acde48001122row6_col1\" class=\"data row6 col1\" >31</td>\n",
       "            </tr>\n",
       "            <tr>\n",
       "                        <th id=\"T_d024493c_8cbc_11ea_a2ba_acde48001122level0_row7\" class=\"row_heading level0 row7\" >40+</th>\n",
       "                        <td id=\"T_d024493c_8cbc_11ea_a2ba_acde48001122row7_col0\" class=\"data row7 col0\" >2.08</td>\n",
       "                        <td id=\"T_d024493c_8cbc_11ea_a2ba_acde48001122row7_col1\" class=\"data row7 col1\" >12</td>\n",
       "            </tr>\n",
       "    </tbody></table>"
      ],
      "text/plain": [
       "<pandas.io.formats.style.Styler at 0x1207ff910>"
      ]
     },
     "execution_count": 34,
     "metadata": {},
     "output_type": "execute_result"
    }
   ],
   "source": [
    "# bins for my age values / groupings\n",
    "age_bins = [0, 9.90, 14.90, 19.90, 24.90, 29.90, 34.90, 39.90, 99999]\n",
    "grouping_names = [\"<10\", \"10-14\", \"15-19\", \"20-24\", \"25-29\", \"30-34\", \"35-39\", \"40+\"]\n",
    "\n",
    "# sorting values, based on the above bins\n",
    "purchase_data[\"Age Groupings\"] = pd.cut(purchase_data[\"Age\"],age_bins, labels=grouping_names)\n",
    "purchase_data\n",
    "\n",
    "# Dataframe to inc. Age Groupings and group using it.\n",
    "grouped_age = purchase_data.groupby(\"Age Groupings\")\n",
    "\n",
    "#counting total players, using SN column and the nunique function.\n",
    "total_age_count = grouped_age[\"SN\"].nunique()\n",
    "\n",
    "# calculating the %s by Age Group\n",
    "percentages_by_age_groupings = (total_age_count/total_players) * 100\n",
    "\n",
    "# summary dataframe to display sought values\n",
    "summary_results = pd.DataFrame({\"% of players\": percentages_by_age_groupings, \"Total\": total_age_count})\n",
    "\n",
    "# basic currency formatting to finesse and give clarity to the data\n",
    "summary_results.style.format({\"% of players\":\"{:,.2f}\"})"
   ]
  },
  {
   "cell_type": "markdown",
   "metadata": {},
   "source": [
    "## Purchasing Analysis (Age)"
   ]
  },
  {
   "cell_type": "markdown",
   "metadata": {},
   "source": [
    "* Bin the purchase_data data frame by age\n",
    "\n",
    "\n",
    "* Run basic calculations to obtain purchase count, avg. purchase price, avg. purchase total per person etc. in the table below\n",
    "\n",
    "\n",
    "* Create a summary data frame to hold the results\n",
    "\n",
    "\n",
    "* Optional: give the displayed data cleaner formatting\n",
    "\n",
    "\n",
    "* Display the summary data frame"
   ]
  },
  {
   "cell_type": "code",
   "execution_count": 36,
   "metadata": {},
   "outputs": [
    {
     "data": {
      "text/html": [
       "<style  type=\"text/css\" >\n",
       "</style><table id=\"T_2811f6bc_8cbd_11ea_a2ba_acde48001122\" ><thead>    <tr>        <th class=\"blank level0\" ></th>        <th class=\"col_heading level0 col0\" >Purchase Count</th>        <th class=\"col_heading level0 col1\" >Avg. Purchase Price</th>        <th class=\"col_heading level0 col2\" >Total Purchase Value</th>        <th class=\"col_heading level0 col3\" >Avg. Purchase Total P/P</th>    </tr>    <tr>        <th class=\"index_name level0\" >Age Groupings</th>        <th class=\"blank\" ></th>        <th class=\"blank\" ></th>        <th class=\"blank\" ></th>        <th class=\"blank\" ></th>    </tr></thead><tbody>\n",
       "                <tr>\n",
       "                        <th id=\"T_2811f6bc_8cbd_11ea_a2ba_acde48001122level0_row0\" class=\"row_heading level0 row0\" ><10</th>\n",
       "                        <td id=\"T_2811f6bc_8cbd_11ea_a2ba_acde48001122row0_col0\" class=\"data row0 col0\" >23</td>\n",
       "                        <td id=\"T_2811f6bc_8cbd_11ea_a2ba_acde48001122row0_col1\" class=\"data row0 col1\" >$3.35</td>\n",
       "                        <td id=\"T_2811f6bc_8cbd_11ea_a2ba_acde48001122row0_col2\" class=\"data row0 col2\" >$77.13</td>\n",
       "                        <td id=\"T_2811f6bc_8cbd_11ea_a2ba_acde48001122row0_col3\" class=\"data row0 col3\" >$4.54</td>\n",
       "            </tr>\n",
       "            <tr>\n",
       "                        <th id=\"T_2811f6bc_8cbd_11ea_a2ba_acde48001122level0_row1\" class=\"row_heading level0 row1\" >10-14</th>\n",
       "                        <td id=\"T_2811f6bc_8cbd_11ea_a2ba_acde48001122row1_col0\" class=\"data row1 col0\" >28</td>\n",
       "                        <td id=\"T_2811f6bc_8cbd_11ea_a2ba_acde48001122row1_col1\" class=\"data row1 col1\" >$2.96</td>\n",
       "                        <td id=\"T_2811f6bc_8cbd_11ea_a2ba_acde48001122row1_col2\" class=\"data row1 col2\" >$82.78</td>\n",
       "                        <td id=\"T_2811f6bc_8cbd_11ea_a2ba_acde48001122row1_col3\" class=\"data row1 col3\" >$3.76</td>\n",
       "            </tr>\n",
       "            <tr>\n",
       "                        <th id=\"T_2811f6bc_8cbd_11ea_a2ba_acde48001122level0_row2\" class=\"row_heading level0 row2\" >15-19</th>\n",
       "                        <td id=\"T_2811f6bc_8cbd_11ea_a2ba_acde48001122row2_col0\" class=\"data row2 col0\" >136</td>\n",
       "                        <td id=\"T_2811f6bc_8cbd_11ea_a2ba_acde48001122row2_col1\" class=\"data row2 col1\" >$3.04</td>\n",
       "                        <td id=\"T_2811f6bc_8cbd_11ea_a2ba_acde48001122row2_col2\" class=\"data row2 col2\" >$412.89</td>\n",
       "                        <td id=\"T_2811f6bc_8cbd_11ea_a2ba_acde48001122row2_col3\" class=\"data row2 col3\" >$3.86</td>\n",
       "            </tr>\n",
       "            <tr>\n",
       "                        <th id=\"T_2811f6bc_8cbd_11ea_a2ba_acde48001122level0_row3\" class=\"row_heading level0 row3\" >20-24</th>\n",
       "                        <td id=\"T_2811f6bc_8cbd_11ea_a2ba_acde48001122row3_col0\" class=\"data row3 col0\" >365</td>\n",
       "                        <td id=\"T_2811f6bc_8cbd_11ea_a2ba_acde48001122row3_col1\" class=\"data row3 col1\" >$3.05</td>\n",
       "                        <td id=\"T_2811f6bc_8cbd_11ea_a2ba_acde48001122row3_col2\" class=\"data row3 col2\" >$1,114.06</td>\n",
       "                        <td id=\"T_2811f6bc_8cbd_11ea_a2ba_acde48001122row3_col3\" class=\"data row3 col3\" >$4.32</td>\n",
       "            </tr>\n",
       "            <tr>\n",
       "                        <th id=\"T_2811f6bc_8cbd_11ea_a2ba_acde48001122level0_row4\" class=\"row_heading level0 row4\" >25-29</th>\n",
       "                        <td id=\"T_2811f6bc_8cbd_11ea_a2ba_acde48001122row4_col0\" class=\"data row4 col0\" >101</td>\n",
       "                        <td id=\"T_2811f6bc_8cbd_11ea_a2ba_acde48001122row4_col1\" class=\"data row4 col1\" >$2.90</td>\n",
       "                        <td id=\"T_2811f6bc_8cbd_11ea_a2ba_acde48001122row4_col2\" class=\"data row4 col2\" >$293.00</td>\n",
       "                        <td id=\"T_2811f6bc_8cbd_11ea_a2ba_acde48001122row4_col3\" class=\"data row4 col3\" >$3.81</td>\n",
       "            </tr>\n",
       "            <tr>\n",
       "                        <th id=\"T_2811f6bc_8cbd_11ea_a2ba_acde48001122level0_row5\" class=\"row_heading level0 row5\" >30-34</th>\n",
       "                        <td id=\"T_2811f6bc_8cbd_11ea_a2ba_acde48001122row5_col0\" class=\"data row5 col0\" >73</td>\n",
       "                        <td id=\"T_2811f6bc_8cbd_11ea_a2ba_acde48001122row5_col1\" class=\"data row5 col1\" >$2.93</td>\n",
       "                        <td id=\"T_2811f6bc_8cbd_11ea_a2ba_acde48001122row5_col2\" class=\"data row5 col2\" >$214.00</td>\n",
       "                        <td id=\"T_2811f6bc_8cbd_11ea_a2ba_acde48001122row5_col3\" class=\"data row5 col3\" >$4.12</td>\n",
       "            </tr>\n",
       "            <tr>\n",
       "                        <th id=\"T_2811f6bc_8cbd_11ea_a2ba_acde48001122level0_row6\" class=\"row_heading level0 row6\" >35-39</th>\n",
       "                        <td id=\"T_2811f6bc_8cbd_11ea_a2ba_acde48001122row6_col0\" class=\"data row6 col0\" >41</td>\n",
       "                        <td id=\"T_2811f6bc_8cbd_11ea_a2ba_acde48001122row6_col1\" class=\"data row6 col1\" >$3.60</td>\n",
       "                        <td id=\"T_2811f6bc_8cbd_11ea_a2ba_acde48001122row6_col2\" class=\"data row6 col2\" >$147.67</td>\n",
       "                        <td id=\"T_2811f6bc_8cbd_11ea_a2ba_acde48001122row6_col3\" class=\"data row6 col3\" >$4.76</td>\n",
       "            </tr>\n",
       "            <tr>\n",
       "                        <th id=\"T_2811f6bc_8cbd_11ea_a2ba_acde48001122level0_row7\" class=\"row_heading level0 row7\" >40+</th>\n",
       "                        <td id=\"T_2811f6bc_8cbd_11ea_a2ba_acde48001122row7_col0\" class=\"data row7 col0\" >13</td>\n",
       "                        <td id=\"T_2811f6bc_8cbd_11ea_a2ba_acde48001122row7_col1\" class=\"data row7 col1\" >$2.94</td>\n",
       "                        <td id=\"T_2811f6bc_8cbd_11ea_a2ba_acde48001122row7_col2\" class=\"data row7 col2\" >$38.24</td>\n",
       "                        <td id=\"T_2811f6bc_8cbd_11ea_a2ba_acde48001122row7_col3\" class=\"data row7 col3\" >$3.19</td>\n",
       "            </tr>\n",
       "    </tbody></table>"
      ],
      "text/plain": [
       "<pandas.io.formats.style.Styler at 0x11f40fa50>"
      ]
     },
     "execution_count": 36,
     "metadata": {},
     "output_type": "execute_result"
    }
   ],
   "source": [
    "# calculating total purchase count by gender\n",
    "purchases_per_ag = grouped_age[\"Purchase ID\"].count()\n",
    "\n",
    "# calculating avg. purchase price by gender\n",
    "avg_purchase_price_per_ag = grouped_age[\"Price\"].mean()\n",
    "\n",
    "# calculating the avg. purchase total by gender\n",
    "total_purchase_value_per_ag = grouped_age[\"Price\"].sum()\n",
    "\n",
    "# calculating the avg. purchase p/p\n",
    "avg_purchase_per_person_per_ag = total_purchase_value_per_ag/total_age_count\n",
    "\n",
    "# summary dataframe to hold sought values, calcuated above.\n",
    "purchasing_analysis_age_summary = pd.DataFrame({\"Purchase Count\": purchases_per_ag,\n",
    "                                          \"Avg. Purchase Price\": avg_purchase_price_per_ag,\n",
    "                                          \"Total Purchase Value\": total_purchase_value_per_ag,\n",
    "                                          \"Avg. Purchase Total P/P\": avg_purchase_per_person_per_ag})\n",
    "\n",
    "# this code is not required, as by default the header would show unless = None. I am displaying this code to show intention of displaying the index heading.\n",
    "# in this case Age Groupings.\n",
    "purchasing_analysis_age_summary.index.name = \"Age Groupings\"\n",
    "\n",
    "# basic currency formatting to finesse and give clarity to the data\n",
    "purchasing_analysis_age_summary.style.format({\"Purchase Count\": \"{:,.0f}\", \"Avg. Purchase Price\": \"${:,.2f}\",\n",
    "                                        \"Total Purchase Value\": \"${:,.2f}\", \"Avg. Purchase Total P/P\": \"${:,.2f}\"})\n"
   ]
  },
  {
   "cell_type": "markdown",
   "metadata": {},
   "source": [
    "## Top Spenders"
   ]
  },
  {
   "cell_type": "markdown",
   "metadata": {},
   "source": [
    "* Run basic calculations to obtain the results in the table below\n",
    "\n",
    "\n",
    "* Create a summary data frame to hold the results\n",
    "\n",
    "\n",
    "* Sort the total purchase value column in descending order\n",
    "\n",
    "\n",
    "* Optional: give the displayed data cleaner formatting\n",
    "\n",
    "\n",
    "* Display a preview of the summary data frame\n",
    "\n"
   ]
  },
  {
   "cell_type": "code",
   "execution_count": 37,
   "metadata": {},
   "outputs": [
    {
     "data": {
      "text/html": [
       "<style  type=\"text/css\" >\n",
       "</style><table id=\"T_2ac94716_8cbd_11ea_a2ba_acde48001122\" ><thead>    <tr>        <th class=\"blank level0\" ></th>        <th class=\"col_heading level0 col0\" >Purchase Count</th>        <th class=\"col_heading level0 col1\" >Avg. Purchase Price</th>        <th class=\"col_heading level0 col2\" >Total Purchase Value</th>    </tr>    <tr>        <th class=\"index_name level0\" >SN</th>        <th class=\"blank\" ></th>        <th class=\"blank\" ></th>        <th class=\"blank\" ></th>    </tr></thead><tbody>\n",
       "                <tr>\n",
       "                        <th id=\"T_2ac94716_8cbd_11ea_a2ba_acde48001122level0_row0\" class=\"row_heading level0 row0\" >Lisosia93</th>\n",
       "                        <td id=\"T_2ac94716_8cbd_11ea_a2ba_acde48001122row0_col0\" class=\"data row0 col0\" >5</td>\n",
       "                        <td id=\"T_2ac94716_8cbd_11ea_a2ba_acde48001122row0_col1\" class=\"data row0 col1\" >$3.79</td>\n",
       "                        <td id=\"T_2ac94716_8cbd_11ea_a2ba_acde48001122row0_col2\" class=\"data row0 col2\" >$18.96</td>\n",
       "            </tr>\n",
       "            <tr>\n",
       "                        <th id=\"T_2ac94716_8cbd_11ea_a2ba_acde48001122level0_row1\" class=\"row_heading level0 row1\" >Idastidru52</th>\n",
       "                        <td id=\"T_2ac94716_8cbd_11ea_a2ba_acde48001122row1_col0\" class=\"data row1 col0\" >4</td>\n",
       "                        <td id=\"T_2ac94716_8cbd_11ea_a2ba_acde48001122row1_col1\" class=\"data row1 col1\" >$3.86</td>\n",
       "                        <td id=\"T_2ac94716_8cbd_11ea_a2ba_acde48001122row1_col2\" class=\"data row1 col2\" >$15.45</td>\n",
       "            </tr>\n",
       "            <tr>\n",
       "                        <th id=\"T_2ac94716_8cbd_11ea_a2ba_acde48001122level0_row2\" class=\"row_heading level0 row2\" >Chamjask73</th>\n",
       "                        <td id=\"T_2ac94716_8cbd_11ea_a2ba_acde48001122row2_col0\" class=\"data row2 col0\" >3</td>\n",
       "                        <td id=\"T_2ac94716_8cbd_11ea_a2ba_acde48001122row2_col1\" class=\"data row2 col1\" >$4.61</td>\n",
       "                        <td id=\"T_2ac94716_8cbd_11ea_a2ba_acde48001122row2_col2\" class=\"data row2 col2\" >$13.83</td>\n",
       "            </tr>\n",
       "            <tr>\n",
       "                        <th id=\"T_2ac94716_8cbd_11ea_a2ba_acde48001122level0_row3\" class=\"row_heading level0 row3\" >Iral74</th>\n",
       "                        <td id=\"T_2ac94716_8cbd_11ea_a2ba_acde48001122row3_col0\" class=\"data row3 col0\" >4</td>\n",
       "                        <td id=\"T_2ac94716_8cbd_11ea_a2ba_acde48001122row3_col1\" class=\"data row3 col1\" >$3.40</td>\n",
       "                        <td id=\"T_2ac94716_8cbd_11ea_a2ba_acde48001122row3_col2\" class=\"data row3 col2\" >$13.62</td>\n",
       "            </tr>\n",
       "            <tr>\n",
       "                        <th id=\"T_2ac94716_8cbd_11ea_a2ba_acde48001122level0_row4\" class=\"row_heading level0 row4\" >Iskadarya95</th>\n",
       "                        <td id=\"T_2ac94716_8cbd_11ea_a2ba_acde48001122row4_col0\" class=\"data row4 col0\" >3</td>\n",
       "                        <td id=\"T_2ac94716_8cbd_11ea_a2ba_acde48001122row4_col1\" class=\"data row4 col1\" >$4.37</td>\n",
       "                        <td id=\"T_2ac94716_8cbd_11ea_a2ba_acde48001122row4_col2\" class=\"data row4 col2\" >$13.10</td>\n",
       "            </tr>\n",
       "    </tbody></table>"
      ],
      "text/plain": [
       "<pandas.io.formats.style.Styler at 0x11fff7a10>"
      ]
     },
     "execution_count": 37,
     "metadata": {},
     "output_type": "execute_result"
    }
   ],
   "source": [
    "# grouping data by screen name\n",
    "top_spenders_grouping = purchase_data.groupby(\"SN\")\n",
    "\n",
    "# calculating total buyer purchase using names\n",
    "buyers_total_purchase_count = top_spenders_grouping[\"Purchase ID\"].count()\n",
    "\n",
    "# calculating average buyer purchase by name\n",
    "avg_purchase_by_buyer = top_spenders_grouping[\"Price\"].mean()\n",
    "\n",
    "#calculating purchase total\n",
    "purchase_total = top_spenders_grouping[\"Price\"].sum()\n",
    "\n",
    "# summary dataframe to house calculated values\n",
    "top_spenders_summary = pd.DataFrame({\"Purchase Count\": buyers_total_purchase_count,\n",
    "                                     \"Avg. Purchase Price\": avg_purchase_by_buyer,\n",
    "                                     \"Total Purchase Value\":purchase_total})\n",
    "\n",
    "# sorting data by Top Purchase Value\n",
    "formatted_top_spenders = top_spenders_summary.sort_values([\"Total Purchase Value\"], ascending=False).head()\n",
    "\n",
    "# this code is not required, as by default the header would show unless = None. I am displaying this code to show intention of displaying the index heading.\n",
    "# in this case SN.\n",
    "formatted_top_spenders.index.name = \"SN\"\n",
    "\n",
    "# basic currency formatting to finesse and give clarity to the data\n",
    "formatted_top_spenders.style.format({\"Avg. Purchase Price\":\"${:,.2f}\",\n",
    "                                     \"Average Purchase Price\":\"${:,.2f}\",\n",
    "                                     \"Total Purchase Value\":\"${:,.2f}\"})"
   ]
  },
  {
   "cell_type": "markdown",
   "metadata": {},
   "source": [
    "## Most Popular Items"
   ]
  },
  {
   "cell_type": "markdown",
   "metadata": {},
   "source": [
    "* Retrieve the Item ID, Item Name, and Item Price columns\n",
    "\n",
    "\n",
    "* Group by Item ID and Item Name. Perform calculations to obtain purchase count, item price, and total purchase value\n",
    "\n",
    "\n",
    "* Create a summary data frame to hold the results\n",
    "\n",
    "\n",
    "* Sort the purchase count column in descending order\n",
    "\n",
    "\n",
    "* Optional: give the displayed data cleaner formatting\n",
    "\n",
    "\n",
    "* Display a preview of the summary data frame\n",
    "\n"
   ]
  },
  {
   "cell_type": "code",
   "execution_count": 38,
   "metadata": {},
   "outputs": [
    {
     "data": {
      "text/html": [
       "<style  type=\"text/css\" >\n",
       "</style><table id=\"T_2e507760_8cbd_11ea_a2ba_acde48001122\" ><thead>    <tr>        <th class=\"blank\" ></th>        <th class=\"blank level0\" ></th>        <th class=\"col_heading level0 col0\" >Purchase Count</th>        <th class=\"col_heading level0 col1\" >Item Price</th>        <th class=\"col_heading level0 col2\" >Total Purchase Value</th>    </tr>    <tr>        <th class=\"index_name level0\" >Item ID</th>        <th class=\"index_name level1\" >Item Name</th>        <th class=\"blank\" ></th>        <th class=\"blank\" ></th>        <th class=\"blank\" ></th>    </tr></thead><tbody>\n",
       "                <tr>\n",
       "                        <th id=\"T_2e507760_8cbd_11ea_a2ba_acde48001122level0_row0\" class=\"row_heading level0 row0\" >92</th>\n",
       "                        <th id=\"T_2e507760_8cbd_11ea_a2ba_acde48001122level1_row0\" class=\"row_heading level1 row0\" >Final Critic</th>\n",
       "                        <td id=\"T_2e507760_8cbd_11ea_a2ba_acde48001122row0_col0\" class=\"data row0 col0\" >13</td>\n",
       "                        <td id=\"T_2e507760_8cbd_11ea_a2ba_acde48001122row0_col1\" class=\"data row0 col1\" >$4.61</td>\n",
       "                        <td id=\"T_2e507760_8cbd_11ea_a2ba_acde48001122row0_col2\" class=\"data row0 col2\" >$59.99</td>\n",
       "            </tr>\n",
       "            <tr>\n",
       "                        <th id=\"T_2e507760_8cbd_11ea_a2ba_acde48001122level0_row1\" class=\"row_heading level0 row1\" >178</th>\n",
       "                        <th id=\"T_2e507760_8cbd_11ea_a2ba_acde48001122level1_row1\" class=\"row_heading level1 row1\" >Oathbreaker, Last Hope of the Breaking Storm</th>\n",
       "                        <td id=\"T_2e507760_8cbd_11ea_a2ba_acde48001122row1_col0\" class=\"data row1 col0\" >12</td>\n",
       "                        <td id=\"T_2e507760_8cbd_11ea_a2ba_acde48001122row1_col1\" class=\"data row1 col1\" >$4.23</td>\n",
       "                        <td id=\"T_2e507760_8cbd_11ea_a2ba_acde48001122row1_col2\" class=\"data row1 col2\" >$50.76</td>\n",
       "            </tr>\n",
       "            <tr>\n",
       "                        <th id=\"T_2e507760_8cbd_11ea_a2ba_acde48001122level0_row2\" class=\"row_heading level0 row2\" >145</th>\n",
       "                        <th id=\"T_2e507760_8cbd_11ea_a2ba_acde48001122level1_row2\" class=\"row_heading level1 row2\" >Fiery Glass Crusader</th>\n",
       "                        <td id=\"T_2e507760_8cbd_11ea_a2ba_acde48001122row2_col0\" class=\"data row2 col0\" >9</td>\n",
       "                        <td id=\"T_2e507760_8cbd_11ea_a2ba_acde48001122row2_col1\" class=\"data row2 col1\" >$4.58</td>\n",
       "                        <td id=\"T_2e507760_8cbd_11ea_a2ba_acde48001122row2_col2\" class=\"data row2 col2\" >$41.22</td>\n",
       "            </tr>\n",
       "            <tr>\n",
       "                        <th id=\"T_2e507760_8cbd_11ea_a2ba_acde48001122level0_row3\" class=\"row_heading level0 row3\" >132</th>\n",
       "                        <th id=\"T_2e507760_8cbd_11ea_a2ba_acde48001122level1_row3\" class=\"row_heading level1 row3\" >Persuasion</th>\n",
       "                        <td id=\"T_2e507760_8cbd_11ea_a2ba_acde48001122row3_col0\" class=\"data row3 col0\" >9</td>\n",
       "                        <td id=\"T_2e507760_8cbd_11ea_a2ba_acde48001122row3_col1\" class=\"data row3 col1\" >$3.22</td>\n",
       "                        <td id=\"T_2e507760_8cbd_11ea_a2ba_acde48001122row3_col2\" class=\"data row3 col2\" >$28.99</td>\n",
       "            </tr>\n",
       "            <tr>\n",
       "                        <th id=\"T_2e507760_8cbd_11ea_a2ba_acde48001122level0_row4\" class=\"row_heading level0 row4\" >108</th>\n",
       "                        <th id=\"T_2e507760_8cbd_11ea_a2ba_acde48001122level1_row4\" class=\"row_heading level1 row4\" >Extraction, Quickblade Of Trembling Hands</th>\n",
       "                        <td id=\"T_2e507760_8cbd_11ea_a2ba_acde48001122row4_col0\" class=\"data row4 col0\" >9</td>\n",
       "                        <td id=\"T_2e507760_8cbd_11ea_a2ba_acde48001122row4_col1\" class=\"data row4 col1\" >$3.53</td>\n",
       "                        <td id=\"T_2e507760_8cbd_11ea_a2ba_acde48001122row4_col2\" class=\"data row4 col2\" >$31.77</td>\n",
       "            </tr>\n",
       "    </tbody></table>"
      ],
      "text/plain": [
       "<pandas.io.formats.style.Styler at 0x11f40fad0>"
      ]
     },
     "execution_count": 38,
     "metadata": {},
     "output_type": "execute_result"
    }
   ],
   "source": [
    "# datafram to house key information on items\n",
    "popular_items = purchase_data[[\"Item ID\", \"Item Name\", \"Price\"]]\n",
    "\n",
    "# sorting / grouping the data by Item ID and Item Name\n",
    "grouped_item_unique_ids = popular_items.groupby([\"Item ID\", \"Item Name\"])\n",
    "            \n",
    "# calculating total purchase quantity for each item\n",
    "item_purchase_count = grouped_item_unique_ids[\"Price\"].count()\n",
    "                              \n",
    "# calculating the purchase value per item\n",
    "per_item_purchase_value = (grouped_item_unique_ids[\"Price\"].sum())\n",
    "\n",
    "# calculating the individual item price\n",
    "individual_item_price = per_item_purchase_value/item_purchase_count\n",
    "\n",
    "# dataframe to house obtained values, from above calculations\n",
    "most_popular_items = pd.DataFrame({\"Purchase Count\": item_purchase_count,\n",
    "                                  \"Item Price\": individual_item_price,\n",
    "                                  \"Total Purchase Value\": per_item_purchase_value}) \n",
    "\n",
    "# grouping data decsendingly to show top 5 popular items, using Purchase Count\n",
    "most_popular_formatted = most_popular_items.sort_values([\"Purchase Count\"], ascending=False).head()\n",
    "\n",
    "# basic currency formatting to finesse and give clarity to the data\n",
    "most_popular_formatted.style.format({\"Item Price\":\"${:,.2f}\",\n",
    "                                \"Total Purchase Value\":\"${:,.2f}\"})"
   ]
  },
  {
   "cell_type": "markdown",
   "metadata": {},
   "source": [
    "## Most Profitable Items"
   ]
  },
  {
   "cell_type": "markdown",
   "metadata": {},
   "source": [
    "* Sort the above table by total purchase value in descending order\n",
    "\n",
    "\n",
    "* Optional: give the displayed data cleaner formatting\n",
    "\n",
    "\n",
    "* Display a preview of the data frame\n",
    "\n"
   ]
  },
  {
   "cell_type": "code",
   "execution_count": 39,
   "metadata": {
    "scrolled": true
   },
   "outputs": [
    {
     "data": {
      "text/html": [
       "<style  type=\"text/css\" >\n",
       "</style><table id=\"T_397ced80_8cbd_11ea_a2ba_acde48001122\" ><thead>    <tr>        <th class=\"blank\" ></th>        <th class=\"blank level0\" ></th>        <th class=\"col_heading level0 col0\" >Purchase Count</th>        <th class=\"col_heading level0 col1\" >Item Price</th>        <th class=\"col_heading level0 col2\" >Total Purchase Value</th>    </tr>    <tr>        <th class=\"index_name level0\" >Item ID</th>        <th class=\"index_name level1\" >Item Name</th>        <th class=\"blank\" ></th>        <th class=\"blank\" ></th>        <th class=\"blank\" ></th>    </tr></thead><tbody>\n",
       "                <tr>\n",
       "                        <th id=\"T_397ced80_8cbd_11ea_a2ba_acde48001122level0_row0\" class=\"row_heading level0 row0\" >92</th>\n",
       "                        <th id=\"T_397ced80_8cbd_11ea_a2ba_acde48001122level1_row0\" class=\"row_heading level1 row0\" >Final Critic</th>\n",
       "                        <td id=\"T_397ced80_8cbd_11ea_a2ba_acde48001122row0_col0\" class=\"data row0 col0\" >13</td>\n",
       "                        <td id=\"T_397ced80_8cbd_11ea_a2ba_acde48001122row0_col1\" class=\"data row0 col1\" >$4.61</td>\n",
       "                        <td id=\"T_397ced80_8cbd_11ea_a2ba_acde48001122row0_col2\" class=\"data row0 col2\" >$59.99</td>\n",
       "            </tr>\n",
       "            <tr>\n",
       "                        <th id=\"T_397ced80_8cbd_11ea_a2ba_acde48001122level0_row1\" class=\"row_heading level0 row1\" >178</th>\n",
       "                        <th id=\"T_397ced80_8cbd_11ea_a2ba_acde48001122level1_row1\" class=\"row_heading level1 row1\" >Oathbreaker, Last Hope of the Breaking Storm</th>\n",
       "                        <td id=\"T_397ced80_8cbd_11ea_a2ba_acde48001122row1_col0\" class=\"data row1 col0\" >12</td>\n",
       "                        <td id=\"T_397ced80_8cbd_11ea_a2ba_acde48001122row1_col1\" class=\"data row1 col1\" >$4.23</td>\n",
       "                        <td id=\"T_397ced80_8cbd_11ea_a2ba_acde48001122row1_col2\" class=\"data row1 col2\" >$50.76</td>\n",
       "            </tr>\n",
       "            <tr>\n",
       "                        <th id=\"T_397ced80_8cbd_11ea_a2ba_acde48001122level0_row2\" class=\"row_heading level0 row2\" >82</th>\n",
       "                        <th id=\"T_397ced80_8cbd_11ea_a2ba_acde48001122level1_row2\" class=\"row_heading level1 row2\" >Nirvana</th>\n",
       "                        <td id=\"T_397ced80_8cbd_11ea_a2ba_acde48001122row2_col0\" class=\"data row2 col0\" >9</td>\n",
       "                        <td id=\"T_397ced80_8cbd_11ea_a2ba_acde48001122row2_col1\" class=\"data row2 col1\" >$4.90</td>\n",
       "                        <td id=\"T_397ced80_8cbd_11ea_a2ba_acde48001122row2_col2\" class=\"data row2 col2\" >$44.10</td>\n",
       "            </tr>\n",
       "            <tr>\n",
       "                        <th id=\"T_397ced80_8cbd_11ea_a2ba_acde48001122level0_row3\" class=\"row_heading level0 row3\" >145</th>\n",
       "                        <th id=\"T_397ced80_8cbd_11ea_a2ba_acde48001122level1_row3\" class=\"row_heading level1 row3\" >Fiery Glass Crusader</th>\n",
       "                        <td id=\"T_397ced80_8cbd_11ea_a2ba_acde48001122row3_col0\" class=\"data row3 col0\" >9</td>\n",
       "                        <td id=\"T_397ced80_8cbd_11ea_a2ba_acde48001122row3_col1\" class=\"data row3 col1\" >$4.58</td>\n",
       "                        <td id=\"T_397ced80_8cbd_11ea_a2ba_acde48001122row3_col2\" class=\"data row3 col2\" >$41.22</td>\n",
       "            </tr>\n",
       "            <tr>\n",
       "                        <th id=\"T_397ced80_8cbd_11ea_a2ba_acde48001122level0_row4\" class=\"row_heading level0 row4\" >103</th>\n",
       "                        <th id=\"T_397ced80_8cbd_11ea_a2ba_acde48001122level1_row4\" class=\"row_heading level1 row4\" >Singed Scalpel</th>\n",
       "                        <td id=\"T_397ced80_8cbd_11ea_a2ba_acde48001122row4_col0\" class=\"data row4 col0\" >8</td>\n",
       "                        <td id=\"T_397ced80_8cbd_11ea_a2ba_acde48001122row4_col1\" class=\"data row4 col1\" >$4.35</td>\n",
       "                        <td id=\"T_397ced80_8cbd_11ea_a2ba_acde48001122row4_col2\" class=\"data row4 col2\" >$34.80</td>\n",
       "            </tr>\n",
       "    </tbody></table>"
      ],
      "text/plain": [
       "<pandas.io.formats.style.Styler at 0x10e475c10>"
      ]
     },
     "execution_count": 39,
     "metadata": {},
     "output_type": "execute_result"
    }
   ],
   "source": [
    "# sorting above table by Total Purchase Value descendingly\n",
    "most_popular_formatted = most_popular_items.sort_values([\"Total Purchase Value\"], ascending=False).head()\n",
    "\n",
    "# basic currency formatting to finesse and give clarity to the data\n",
    "most_popular_formatted.style.format({\"Item Price\":\"${:,.2f}\",\n",
    "                                \"Total Purchase Value\":\"${:,.2f}\"})"
   ]
  },
  {
   "cell_type": "code",
   "execution_count": null,
   "metadata": {},
   "outputs": [],
   "source": []
  }
 ],
 "metadata": {
  "anaconda-cloud": {},
  "kernel_info": {
   "name": "python3"
  },
  "kernelspec": {
   "display_name": "Python 3",
   "language": "python",
   "name": "python3"
  },
  "language_info": {
   "codemirror_mode": {
    "name": "ipython",
    "version": 3
   },
   "file_extension": ".py",
   "mimetype": "text/x-python",
   "name": "python",
   "nbconvert_exporter": "python",
   "pygments_lexer": "ipython3",
   "version": "3.7.7"
  },
  "latex_envs": {
   "LaTeX_envs_menu_present": true,
   "autoclose": false,
   "autocomplete": true,
   "bibliofile": "biblio.bib",
   "cite_by": "apalike",
   "current_citInitial": 1,
   "eqLabelWithNumbers": true,
   "eqNumInitial": 1,
   "hotkeys": {
    "equation": "Ctrl-E",
    "itemize": "Ctrl-I"
   },
   "labels_anchors": false,
   "latex_user_defs": false,
   "report_style_numbering": false,
   "user_envs_cfg": false
  },
  "nteract": {
   "version": "0.2.0"
  }
 },
 "nbformat": 4,
 "nbformat_minor": 4
}
